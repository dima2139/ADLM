{
 "cells": [
  {
   "metadata": {},
   "cell_type": "markdown",
   "source": [
    "<h1>Training</h1>\n",
    "In this notebook we will show you how to train nnUNet with a desired target spacing and patch size on the KiTS23 dataset"
   ],
   "id": "61dff06991308138"
  },
  {
   "metadata": {},
   "cell_type": "markdown",
   "source": [
    "<h3>Training configuration</h3>\n",
    "\n",
    "The preprocessing step in \"kits_dataset.ipynb\" will create the file \"nnUNetPlans.json\" in this folder:<br>\n",
    "\"KiTS23/dataset/nnUNet_data/train/nnUNet_preprocessed/Dataset220_KiTS0223/nnUNetPlans_3d_fullres\"\n",
    "\n",
    "The target spacing and patch size used for training can be found inside of this file at line 354:"
   ],
   "id": "6ae49fa39318af2f"
  },
  {
   "metadata": {},
   "cell_type": "markdown",
   "source": [
    "```\n",
    "\"3d_fullres\": {\n",
    "    \"data_identifier\": \"nnUNetPlans_3d_fullres\",\n",
    "    \"preprocessor_name\": \"DefaultPreprocessor\",\n",
    "    \"batch_size\": 2,\n",
    "    \"patch_size\": [\n",
    "        32,\n",
    "        160,\n",
    "        160\n",
    "    ],\n",
    "    \"median_image_size_in_voxels\": [\n",
    "        103.0,\n",
    "        512.0,\n",
    "        512.0\n",
    "    ],\n",
    "    \"spacing\": [\n",
    "        3.0,\n",
    "        0.8,\n",
    "        0.8\n",
    "    ],\n",
    "...\n",
    "```\n"
   ],
   "id": "4f8b81f4131d91b6"
  },
  {
   "metadata": {},
   "cell_type": "markdown",
   "source": [
    "(this is the configuration for the baseline model)\n",
    "\n",
    "All the configurations we used for our research project can be found at:<br>\n",
    "\"KiTS23/training_configurations\"\n",
    "\n",
    "You can either use our configurations or change the spacing and patch yourself in the \"nnUNetPlan.json\" file that was created with your preprocessing"
   ],
   "id": "29f6e7f63dab23dc"
  },
  {
   "metadata": {},
   "cell_type": "markdown",
   "source": [
    "<h3>Run training</h3>\n",
    "Once we adapted the \"nnUNetPlans.json\" file in<br>\n",
    "KiTS23/dataset/nnUNet_data/train/nnUNet_preprocessed/Dataset220_KiTS0223/nnUNetPlans_3d_fullres<br>\n",
    "accordingly, we can start training"
   ],
   "id": "b50a5257a6597f1"
  },
  {
   "metadata": {
    "ExecuteTime": {
     "end_time": "2025-07-31T07:15:06.920914Z",
     "start_time": "2025-07-31T07:14:40.257565Z"
    }
   },
   "cell_type": "code",
   "source": [
    "%%cmd\n",
    "set nnUNet_raw=KiTS23/dataset/nnUNet_data/train/nnUNet_raw\n",
    "set nnUNet_preprocessed=KiTS23/dataset/nnUNet_data/train/nnUNet_preprocessed\n",
    "set nnUNet_results=KiTS23/dataset/nnUNet_data/train/nnUNet_results\n",
    "\n",
    "nnUNetv2_train 220 3d_fullres all -device cuda"
   ],
   "id": "953e253b5230d042",
   "outputs": [
    {
     "name": "stdout",
     "output_type": "stream",
     "text": [
      "Microsoft Windows [Version 10.0.19045.6093]\r\n",
      "(c) Microsoft Corporation. Alle Rechte vorbehalten.\r\n",
      "\r\n",
      "(ADLM) C:\\Users\\jeanb\\PycharmProjects\\ADLM_Code\\ADLM>set nnUNet_raw=KiTS23/dataset/nnUNet_data/train/nnUNet_raw\n",
      "\r\n",
      "(ADLM) C:\\Users\\jeanb\\PycharmProjects\\ADLM_Code\\ADLM>set nnUNet_preprocessed=KiTS23/dataset/nnUNet_data/train/nnUNet_preprocessed\n",
      "\r\n",
      "(ADLM) C:\\Users\\jeanb\\PycharmProjects\\ADLM_Code\\ADLM>set nnUNet_results=KiTS23/dataset/nnUNet_data/train/nnUNet_results\n",
      "\r\n",
      "(ADLM) C:\\Users\\jeanb\\PycharmProjects\\ADLM_Code\\ADLM>\n",
      "(ADLM) C:\\Users\\jeanb\\PycharmProjects\\ADLM_Code\\ADLM>nnUNetv2_train 220 3d_fullres all -device cuda\n"
     ]
    },
    {
     "name": "stderr",
     "output_type": "stream",
     "text": [
      "C:\\Users\\jeanb\\AppData\\Local\\anaconda3\\envs\\ADLM\\Lib\\site-packages\\requests\\__init__.py:86: RequestsDependencyWarning: Unable to find acceptable character detection dependency (chardet or charset_normalizer).\r\n",
      "  warnings.warn(\r\n"
     ]
    },
    {
     "name": "stdout",
     "output_type": "stream",
     "text": [
      "\r\n",
      "############################\r\n",
      "INFO: You are using the old nnU-Net default plans. We have updated our recommendations. Please consider using those instead! Read more here: https://github.com/MIC-DKFZ/nnUNet/blob/master/documentation/resenc_presets.md\r\n",
      "############################\r\n",
      "\r\n",
      "Using device: cuda:0\r\n"
     ]
    },
    {
     "name": "stderr",
     "output_type": "stream",
     "text": [
      "C:\\Users\\jeanb\\AppData\\Local\\anaconda3\\envs\\ADLM\\Lib\\site-packages\\torch\\amp\\grad_scaler.py:136: UserWarning: torch.cuda.amp.GradScaler is enabled, but CUDA is not available.  Disabling.\r\n",
      "  warnings.warn(\r\n"
     ]
    },
    {
     "name": "stdout",
     "output_type": "stream",
     "text": [
      "\r\n",
      "#######################################################################\r\n",
      "Please cite the following paper when using nnU-Net:\r\n",
      "Isensee, F., Jaeger, P. F., Kohl, S. A., Petersen, J., & Maier-Hein, K. H. (2021). nnU-Net: a self-configuring method for deep learning-based biomedical image segmentation. Nature methods, 18(2), 203-211.\r\n",
      "#######################################################################\r\n",
      "\r\n"
     ]
    },
    {
     "name": "stderr",
     "output_type": "stream",
     "text": [
      "Traceback (most recent call last):\r\n",
      "  File \"<frozen runpy>\", line 198, in _run_module_as_main\r\n",
      "  File \"<frozen runpy>\", line 88, in _run_code\r\n",
      "  File \"C:\\Users\\jeanb\\AppData\\Local\\anaconda3\\envs\\ADLM\\Scripts\\nnUNetv2_train.exe\\__main__.py\", line 7, in <module>\r\n",
      "  File \"C:\\Users\\jeanb\\PycharmProjects\\ADLM_Code\\ADLM\\nnUNet\\nnunetv2\\run\\run_training.py\", line 266, in run_training_entry\r\n",
      "    run_training(args.dataset_name_or_id, args.configuration, args.fold, args.tr, args.p, args.pretrained_weights,\r\n",
      "  File \"C:\\Users\\jeanb\\PycharmProjects\\ADLM_Code\\ADLM\\nnUNet\\nnunetv2\\run\\run_training.py\", line 207, in run_training\r\n",
      "    nnunet_trainer.run_training()\r\n",
      "  File \"C:\\Users\\jeanb\\PycharmProjects\\ADLM_Code\\ADLM\\nnUNet\\nnunetv2\\training\\nnUNetTrainer\\nnUNetTrainer.py\", line 1363, in run_training\r\n",
      "    self.on_train_start()\r\n",
      "  File \"C:\\Users\\jeanb\\PycharmProjects\\ADLM_Code\\ADLM\\nnUNet\\nnunetv2\\training\\nnUNetTrainer\\nnUNetTrainer.py\", line 896, in on_train_start\r\n",
      "    self.initialize()\r\n",
      "  File \"C:\\Users\\jeanb\\PycharmProjects\\ADLM_Code\\ADLM\\nnUNet\\nnunetv2\\training\\nnUNetTrainer\\nnUNetTrainer.py\", line 216, in initialize\r\n",
      "    ).to(self.device)\r\n",
      "      ^^^^^^^^^^^^^^^\r\n",
      "  File \"C:\\Users\\jeanb\\AppData\\Local\\anaconda3\\envs\\ADLM\\Lib\\site-packages\\torch\\nn\\modules\\module.py\", line 1355, in to\r\n",
      "    return self._apply(convert)\r\n",
      "           ^^^^^^^^^^^^^^^^^^^^\r\n",
      "  File \"C:\\Users\\jeanb\\AppData\\Local\\anaconda3\\envs\\ADLM\\Lib\\site-packages\\torch\\nn\\modules\\module.py\", line 915, in _apply\r\n",
      "    module._apply(fn)\r\n",
      "  File \"C:\\Users\\jeanb\\AppData\\Local\\anaconda3\\envs\\ADLM\\Lib\\site-packages\\torch\\nn\\modules\\module.py\", line 915, in _apply\r\n",
      "    module._apply(fn)\r\n",
      "  File \"C:\\Users\\jeanb\\AppData\\Local\\anaconda3\\envs\\ADLM\\Lib\\site-packages\\torch\\nn\\modules\\module.py\", line 915, in _apply\r\n",
      "    module._apply(fn)\r\n",
      "  [Previous line repeated 4 more times]\r\n",
      "  File \"C:\\Users\\jeanb\\AppData\\Local\\anaconda3\\envs\\ADLM\\Lib\\site-packages\\torch\\nn\\modules\\module.py\", line 942, in _apply\r\n",
      "    param_applied = fn(param)\r\n",
      "                    ^^^^^^^^^\r\n",
      "  File \"C:\\Users\\jeanb\\AppData\\Local\\anaconda3\\envs\\ADLM\\Lib\\site-packages\\torch\\nn\\modules\\module.py\", line 1341, in convert\r\n",
      "    return t.to(\r\n",
      "           ^^^^^\r\n",
      "  File \"C:\\Users\\jeanb\\AppData\\Local\\anaconda3\\envs\\ADLM\\Lib\\site-packages\\torch\\cuda\\__init__.py\", line 363, in _lazy_init\r\n",
      "    raise AssertionError(\"Torch not compiled with CUDA enabled\")\r\n",
      "AssertionError: Torch not compiled with CUDA enabled\r\n"
     ]
    },
    {
     "name": "stdout",
     "output_type": "stream",
     "text": [
      "\r\n",
      "(ADLM) C:\\Users\\jeanb\\PycharmProjects\\ADLM_Code\\ADLM>"
     ]
    },
    {
     "ename": "CalledProcessError",
     "evalue": "Command 'b'set nnUNet_raw=KiTS23/dataset/nnUNet_data/train/nnUNet_raw\\nset nnUNet_preprocessed=KiTS23/dataset/nnUNet_data/train/nnUNet_preprocessed\\nset nnUNet_results=KiTS23/dataset/nnUNet_data/train/nnUNet_results\\n\\nnnUNetv2_train 220 3d_fullres all -device cuda\\n'' returned non-zero exit status 0.",
     "output_type": "error",
     "traceback": [
      "\u001B[31m---------------------------------------------------------------------------\u001B[39m",
      "\u001B[31mCalledProcessError\u001B[39m                        Traceback (most recent call last)",
      "\u001B[36mCell\u001B[39m\u001B[36m \u001B[39m\u001B[32mIn[1]\u001B[39m\u001B[32m, line 1\u001B[39m\n\u001B[32m----> \u001B[39m\u001B[32m1\u001B[39m get_ipython().run_cell_magic(\u001B[33m'\u001B[39m\u001B[33mcmd\u001B[39m\u001B[33m'\u001B[39m, \u001B[33m'\u001B[39m\u001B[33m'\u001B[39m, \u001B[33m'\u001B[39m\u001B[33mset nnUNet_raw=KiTS23/dataset/nnUNet_data/train/nnUNet_raw\u001B[39m\u001B[38;5;130;01m\\n\u001B[39;00m\u001B[33mset nnUNet_preprocessed=KiTS23/dataset/nnUNet_data/train/nnUNet_preprocessed\u001B[39m\u001B[38;5;130;01m\\n\u001B[39;00m\u001B[33mset nnUNet_results=KiTS23/dataset/nnUNet_data/train/nnUNet_results\u001B[39m\u001B[38;5;130;01m\\n\u001B[39;00m\u001B[38;5;130;01m\\n\u001B[39;00m\u001B[33mnnUNetv2_train 220 3d_fullres all -device cuda\u001B[39m\u001B[38;5;130;01m\\n\u001B[39;00m\u001B[33m'\u001B[39m)\n",
      "\u001B[36mFile \u001B[39m\u001B[32m~\\AppData\\Local\\anaconda3\\envs\\ADLM\\Lib\\site-packages\\IPython\\core\\interactiveshell.py:2547\u001B[39m, in \u001B[36mInteractiveShell.run_cell_magic\u001B[39m\u001B[34m(self, magic_name, line, cell)\u001B[39m\n\u001B[32m   2545\u001B[39m \u001B[38;5;28;01mwith\u001B[39;00m \u001B[38;5;28mself\u001B[39m.builtin_trap:\n\u001B[32m   2546\u001B[39m     args = (magic_arg_s, cell)\n\u001B[32m-> \u001B[39m\u001B[32m2547\u001B[39m     result = fn(*args, **kwargs)\n\u001B[32m   2549\u001B[39m \u001B[38;5;66;03m# The code below prevents the output from being displayed\u001B[39;00m\n\u001B[32m   2550\u001B[39m \u001B[38;5;66;03m# when using magics with decorator @output_can_be_silenced\u001B[39;00m\n\u001B[32m   2551\u001B[39m \u001B[38;5;66;03m# when the last Python token in the expression is a ';'.\u001B[39;00m\n\u001B[32m   2552\u001B[39m \u001B[38;5;28;01mif\u001B[39;00m \u001B[38;5;28mgetattr\u001B[39m(fn, magic.MAGIC_OUTPUT_CAN_BE_SILENCED, \u001B[38;5;28;01mFalse\u001B[39;00m):\n",
      "\u001B[36mFile \u001B[39m\u001B[32m~\\AppData\\Local\\anaconda3\\envs\\ADLM\\Lib\\site-packages\\IPython\\core\\magics\\script.py:159\u001B[39m, in \u001B[36mScriptMagics._make_script_magic.<locals>.named_script_magic\u001B[39m\u001B[34m(line, cell)\u001B[39m\n\u001B[32m    157\u001B[39m \u001B[38;5;28;01melse\u001B[39;00m:\n\u001B[32m    158\u001B[39m     line = script\n\u001B[32m--> \u001B[39m\u001B[32m159\u001B[39m \u001B[38;5;28;01mreturn\u001B[39;00m \u001B[38;5;28mself\u001B[39m.shebang(line, cell)\n",
      "\u001B[36mFile \u001B[39m\u001B[32m~\\AppData\\Local\\anaconda3\\envs\\ADLM\\Lib\\site-packages\\IPython\\core\\magics\\script.py:327\u001B[39m, in \u001B[36mScriptMagics.shebang\u001B[39m\u001B[34m(self, line, cell)\u001B[39m\n\u001B[32m    325\u001B[39m     \u001B[38;5;28mprint\u001B[39m(\u001B[33m\"\u001B[39m\u001B[33mError while terminating subprocess (pid=\u001B[39m\u001B[38;5;132;01m%i\u001B[39;00m\u001B[33m): \u001B[39m\u001B[38;5;132;01m%s\u001B[39;00m\u001B[33m\"\u001B[39m % (p.pid, e))\n\u001B[32m    326\u001B[39m \u001B[38;5;28;01mif\u001B[39;00m args.raise_error:\n\u001B[32m--> \u001B[39m\u001B[32m327\u001B[39m     \u001B[38;5;28;01mraise\u001B[39;00m CalledProcessError(p.returncode, cell) \u001B[38;5;28;01mfrom\u001B[39;00m\u001B[38;5;250m \u001B[39m\u001B[38;5;28;01mNone\u001B[39;00m\n\u001B[32m    328\u001B[39m \u001B[38;5;28;01melse\u001B[39;00m:\n\u001B[32m    329\u001B[39m     \u001B[38;5;28;01mreturn\u001B[39;00m\n",
      "\u001B[31mCalledProcessError\u001B[39m: Command 'b'set nnUNet_raw=KiTS23/dataset/nnUNet_data/train/nnUNet_raw\\nset nnUNet_preprocessed=KiTS23/dataset/nnUNet_data/train/nnUNet_preprocessed\\nset nnUNet_results=KiTS23/dataset/nnUNet_data/train/nnUNet_results\\n\\nnnUNetv2_train 220 3d_fullres all -device cuda\\n'' returned non-zero exit status 0."
     ]
    }
   ],
   "execution_count": 1
  },
  {
   "metadata": {},
   "cell_type": "markdown",
   "source": [
    "Your model will be stored at:\n",
    "KiTS23/dataset/nnUNet_data/train/nnUNet_results"
   ],
   "id": "2685848c0d2e69a5"
  }
 ],
 "metadata": {
  "kernelspec": {
   "display_name": "Python 3",
   "language": "python",
   "name": "python3"
  },
  "language_info": {
   "codemirror_mode": {
    "name": "ipython",
    "version": 2
   },
   "file_extension": ".py",
   "mimetype": "text/x-python",
   "name": "python",
   "nbconvert_exporter": "python",
   "pygments_lexer": "ipython2",
   "version": "2.7.6"
  }
 },
 "nbformat": 4,
 "nbformat_minor": 5
}
