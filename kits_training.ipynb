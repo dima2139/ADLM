{
 "cells": [
  {
   "cell_type": "markdown",
   "id": "61dff06991308138",
   "metadata": {},
   "source": [
    "<h1>Training</h1>\n",
    "In this notebook we will show you how to train nnUNet with a desired target spacing and patch size on the KiTS23 dataset"
   ]
  },
  {
   "cell_type": "markdown",
   "id": "6ae49fa39318af2f",
   "metadata": {},
   "source": [
    "<h3>Training configuration</h3>\n",
    "\n",
    "The preprocessing step in \"kits_dataset.ipynb\" will create the file \"nnUNetPlans.json\" in this folder:<br>\n",
    "\"KiTS23/dataset/nnUNet_data/train/nnUNet_preprocessed/Dataset220_KiTS0223/nnUNetPlans_3d_fullres\"\n",
    "\n",
    "The target spacing and patch size used for training can be found inside of this file at line 354:"
   ]
  },
  {
   "cell_type": "markdown",
   "id": "4f8b81f4131d91b6",
   "metadata": {},
   "source": [
    "```\n",
    "\"3d_fullres\": {\n",
    "    \"data_identifier\": \"nnUNetPlans_3d_fullres\",\n",
    "    \"preprocessor_name\": \"DefaultPreprocessor\",\n",
    "    \"batch_size\": 2,\n",
    "    \"patch_size\": [\n",
    "        32,\n",
    "        160,\n",
    "        160\n",
    "    ],\n",
    "    \"median_image_size_in_voxels\": [\n",
    "        103.0,\n",
    "        512.0,\n",
    "        512.0\n",
    "    ],\n",
    "    \"spacing\": [\n",
    "        3.0,\n",
    "        0.8,\n",
    "        0.8\n",
    "    ],\n",
    "...\n",
    "```\n"
   ]
  },
  {
   "cell_type": "markdown",
   "id": "29f6e7f63dab23dc",
   "metadata": {},
   "source": [
    "(this is the configuration for the baseline model)\n",
    "\n",
    "All the configurations we used for our research project can be found at:<br>\n",
    "\"KiTS23/training_configurations\"\n",
    "\n",
    "You can either use our configurations or change the spacing and patch yourself in the \"nnUNetPlan.json\" file that was created with your preprocessing"
   ]
  },
  {
   "cell_type": "markdown",
   "id": "b50a5257a6597f1",
   "metadata": {},
   "source": [
    "<h3>Run training</h3>\n",
    "Once we adapted the \"nnUNetPlans.json\" file in<br>\n",
    "KiTS23/dataset/nnUNet_data/train/nnUNet_preprocessed/Dataset220_KiTS0223/nnUNetPlans_3d_fullres<br>\n",
    "accordingly, we can start training"
   ]
  },
  {
   "cell_type": "code",
   "id": "953e253b5230d042",
   "metadata": {},
   "source": [
    "%%bash\n",
    "export nnUNet_raw=KiTS23/dataset/nnUNet_data/train/nnUNet_raw\n",
    "export nnUNet_preprocessed=KiTS23/dataset/nnUNet_data/train/nnUNet_preprocessed\n",
    "export nnUNet_results=KiTS23/dataset/nnUNet_data/train/nnUNet_results\n",
    "\n",
    "nnUNetv2_train 220 3d_fullres all -device cuda"
   ],
   "outputs": [],
   "execution_count": null
  },
  {
   "cell_type": "markdown",
   "id": "2685848c0d2e69a5",
   "metadata": {},
   "source": [
    "Your model will be stored at:\n",
    "KiTS23/dataset/nnUNet_data/train/nnUNet_results"
   ]
  }
 ],
 "metadata": {
  "kernelspec": {
   "display_name": "ADLM_Code",
   "language": "python",
   "name": "python3"
  },
  "language_info": {
   "codemirror_mode": {
    "name": "ipython",
    "version": 3
   },
   "file_extension": ".py",
   "mimetype": "text/x-python",
   "name": "python",
   "nbconvert_exporter": "python",
   "pygments_lexer": "ipython3",
   "version": "3.13.5"
  }
 },
 "nbformat": 4,
 "nbformat_minor": 5
}
