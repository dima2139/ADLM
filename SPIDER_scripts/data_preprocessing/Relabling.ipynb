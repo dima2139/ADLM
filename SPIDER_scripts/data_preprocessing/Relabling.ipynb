{
 "cells": [
  {
   "cell_type": "code",
   "execution_count": 2,
   "id": "23c4f1db",
   "metadata": {},
   "outputs": [],
   "source": [
    "import numpy as np\n",
    "import SimpleITK as sitk\n",
    "import os"
   ]
  },
  {
   "cell_type": "code",
   "execution_count": 5,
   "id": "9aacf9c5",
   "metadata": {},
   "outputs": [
    {
     "name": "stdout",
     "output_type": "stream",
     "text": [
      "Relabeling complete.\n"
     ]
    }
   ],
   "source": [
    "# Define the input and output directories\n",
    "input_labels_dir = 'C:/ADLM/Datasets/SPIDER_FULL_FINAL/10159290/T2SPACE_masks_reoriented'\n",
    "output_labels_dir = 'C:/ADLM/Datasets/SPIDER_FULL_FINAL/10159290/T2SPACE_masks_reoriented_relabeled'\n",
    "\n",
    "# Create the output directory if it doesn't exist\n",
    "os.makedirs(output_labels_dir, exist_ok=True)\n",
    "\n",
    "def relabel_spider_mask(input_path, output_path):\n",
    "    # Load the image\n",
    "    image = sitk.ReadImage(input_path)\n",
    "    mask = sitk.GetArrayFromImage(image)\n",
    "\n",
    "    # Create a new mask with the same shape, initialized to 0 (background)\n",
    "    new_mask = np.zeros_like(mask, dtype=np.uint8)\n",
    "\n",
    "    # Apply the new labeling scheme\n",
    "    # Vertebrae (original values 1-25 and 101-125) -> new value 1\n",
    "    new_mask[(mask >= 1) & (mask <= 25)] = 1\n",
    "    new_mask[(mask >= 101) & (mask <= 125)] = 1\n",
    "\n",
    "    # Spinal Canal (original value 100) -> new value 2\n",
    "    new_mask[mask == 100] = 2\n",
    "\n",
    "    # Intervertebral Discs (original values 201-225) -> new value 3\n",
    "    new_mask[(mask >= 201) & (mask <= 225)] = 3\n",
    "\n",
    "    # Create a new SimpleITK image from the relabeled numpy array\n",
    "    new_image = sitk.GetImageFromArray(new_mask)\n",
    "    new_image.CopyInformation(image)  # Preserve metadata like spacing and origin\n",
    "\n",
    "    # Save the new label file\n",
    "    sitk.WriteImage(new_image, output_path)\n",
    "\n",
    "# Iterate over all label files in the input directory\n",
    "for filename in os.listdir(input_labels_dir):\n",
    "    if filename.endswith(('.nii.gz', '.png', '.mha')): # Adjust for your file format\n",
    "        input_path = os.path.join(input_labels_dir, filename)\n",
    "        output_path = os.path.join(output_labels_dir, filename)\n",
    "        relabel_spider_mask(input_path, output_path)\n",
    "\n",
    "print(\"Relabeling complete.\")"
   ]
  },
  {
   "cell_type": "code",
   "execution_count": null,
   "id": "2a74aea2",
   "metadata": {},
   "outputs": [],
   "source": []
  }
 ],
 "metadata": {
  "kernelspec": {
   "display_name": "Python 3 (ipykernel)",
   "language": "python",
   "name": "python3"
  },
  "language_info": {
   "codemirror_mode": {
    "name": "ipython",
    "version": 3
   },
   "file_extension": ".py",
   "mimetype": "text/x-python",
   "name": "python",
   "nbconvert_exporter": "python",
   "pygments_lexer": "ipython3",
   "version": "3.9.7"
  }
 },
 "nbformat": 4,
 "nbformat_minor": 5
}
