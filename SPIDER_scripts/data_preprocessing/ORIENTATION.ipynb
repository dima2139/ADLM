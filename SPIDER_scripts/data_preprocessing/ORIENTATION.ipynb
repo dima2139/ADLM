{
 "cells": [
  {
   "cell_type": "code",
   "execution_count": 3,
   "id": "19901e57",
   "metadata": {},
   "outputs": [],
   "source": [
    "import nibabel as nib\n",
    "import os\n",
    "import shutil"
   ]
  },
  {
   "cell_type": "markdown",
   "id": "e62bb6fd",
   "metadata": {},
   "source": [
    "# ORIENTATION CHECK"
   ]
  },
  {
   "cell_type": "code",
   "execution_count": 21,
   "id": "7d593d1a",
   "metadata": {},
   "outputs": [
    {
     "name": "stdout",
     "output_type": "stream",
     "text": [
      "--- Orientation Summary ---\n",
      "Orientation: PIR, Count: 28\n",
      "Orientation: LPS, Count: 13\n"
     ]
    }
   ],
   "source": [
    "def check_all_orientations(data_folder):\n",
    "    \"\"\"\n",
    "    Checks the orientation of all .nii.gz files in a folder.\n",
    "    \"\"\"\n",
    "    orientations = {}\n",
    "    for filename in os.listdir(data_folder):\n",
    "        if filename.endswith(\".nii.gz\"):\n",
    "            image_path = os.path.join(data_folder, filename)\n",
    "            try:\n",
    "                img = nib.load(image_path)\n",
    "                orientation = ''.join(nib.aff2axcodes(img.affine)) # Join tuple to string for easy counting\n",
    "                if orientation not in orientations:\n",
    "                    orientations[orientation] = 0\n",
    "                orientations[orientation] += 1\n",
    "            except Exception as e:\n",
    "                print(f\"Could not process {filename}: {e}\")\n",
    "\n",
    "    print(\"--- Orientation Summary ---\")\n",
    "    for orientation, count in orientations.items():\n",
    "        print(f\"Orientation: {orientation}, Count: {count}\")\n",
    "\n",
    "# --- Usage ---\n",
    "# Replace 'path/to/your/t2_images' with the folder containing your T2 NIfTI files\n",
    "t1_folder = 'C:/ADLM/Datasets/SPIDER_FULL_FINAL/10159290/T2SPACE_images_nii.gz'\n",
    "check_all_orientations(t1_folder)"
   ]
  },
  {
   "cell_type": "markdown",
   "id": "1478a3fe",
   "metadata": {},
   "source": [
    "# CONVERSION PIR to LPS"
   ]
  },
  {
   "cell_type": "code",
   "execution_count": 22,
   "id": "e60da601",
   "metadata": {},
   "outputs": [
    {
     "name": "stdout",
     "output_type": "stream",
     "text": [
      "Cleaned data will be saved in: C:/ADLM/Datasets/SPIDER_FULL_FINAL/10159290/T2SPACE_images_reoriented\n",
      "'107_0002.nii.gz' is ('P', 'I', 'R'). Reorienting to ('L', 'P', 'S')...\n",
      "'110_0002.nii.gz' is ('P', 'I', 'R'). Reorienting to ('L', 'P', 'S')...\n",
      "'118_0002.nii.gz' is already ('L', 'P', 'S'). Copying...\n",
      "'11_0002.nii.gz' is already ('L', 'P', 'S'). Copying...\n",
      "'127_0002.nii.gz' is ('P', 'I', 'R'). Reorienting to ('L', 'P', 'S')...\n",
      "'129_0002.nii.gz' is ('P', 'I', 'R'). Reorienting to ('L', 'P', 'S')...\n",
      "'136_0002.nii.gz' is ('P', 'I', 'R'). Reorienting to ('L', 'P', 'S')...\n",
      "'141_0002.nii.gz' is already ('L', 'P', 'S'). Copying...\n",
      "'142_0002.nii.gz' is already ('L', 'P', 'S'). Copying...\n",
      "'146_0002.nii.gz' is already ('L', 'P', 'S'). Copying...\n",
      "'152_0002.nii.gz' is ('P', 'I', 'R'). Reorienting to ('L', 'P', 'S')...\n",
      "'161_0002.nii.gz' is ('P', 'I', 'R'). Reorienting to ('L', 'P', 'S')...\n",
      "'162_0002.nii.gz' is ('P', 'I', 'R'). Reorienting to ('L', 'P', 'S')...\n",
      "'166_0002.nii.gz' is ('P', 'I', 'R'). Reorienting to ('L', 'P', 'S')...\n",
      "'177_0002.nii.gz' is ('P', 'I', 'R'). Reorienting to ('L', 'P', 'S')...\n",
      "'185_0002.nii.gz' is ('P', 'I', 'R'). Reorienting to ('L', 'P', 'S')...\n",
      "'18_0002.nii.gz' is ('P', 'I', 'R'). Reorienting to ('L', 'P', 'S')...\n",
      "'191_0002.nii.gz' is already ('L', 'P', 'S'). Copying...\n",
      "'200_0002.nii.gz' is already ('L', 'P', 'S'). Copying...\n",
      "'209_0002.nii.gz' is already ('L', 'P', 'S'). Copying...\n",
      "'220_0002.nii.gz' is ('P', 'I', 'R'). Reorienting to ('L', 'P', 'S')...\n",
      "'22_0002.nii.gz' is ('P', 'I', 'R'). Reorienting to ('L', 'P', 'S')...\n",
      "'234_0002.nii.gz' is ('P', 'I', 'R'). Reorienting to ('L', 'P', 'S')...\n",
      "'239_0002.nii.gz' is ('P', 'I', 'R'). Reorienting to ('L', 'P', 'S')...\n",
      "'241_0002.nii.gz' is already ('L', 'P', 'S'). Copying...\n",
      "'34_0002.nii.gz' is ('P', 'I', 'R'). Reorienting to ('L', 'P', 'S')...\n",
      "'35_0002.nii.gz' is ('P', 'I', 'R'). Reorienting to ('L', 'P', 'S')...\n",
      "'41_0002.nii.gz' is already ('L', 'P', 'S'). Copying...\n",
      "'45_0002.nii.gz' is ('P', 'I', 'R'). Reorienting to ('L', 'P', 'S')...\n",
      "'50_0002.nii.gz' is ('P', 'I', 'R'). Reorienting to ('L', 'P', 'S')...\n",
      "'52_0002.nii.gz' is ('P', 'I', 'R'). Reorienting to ('L', 'P', 'S')...\n",
      "'55_0002.nii.gz' is ('P', 'I', 'R'). Reorienting to ('L', 'P', 'S')...\n",
      "'57_0002.nii.gz' is ('P', 'I', 'R'). Reorienting to ('L', 'P', 'S')...\n",
      "'5_0002.nii.gz' is ('P', 'I', 'R'). Reorienting to ('L', 'P', 'S')...\n",
      "'61_0002.nii.gz' is already ('L', 'P', 'S'). Copying...\n",
      "'65_0002.nii.gz' is already ('L', 'P', 'S'). Copying...\n",
      "'69_0002.nii.gz' is ('P', 'I', 'R'). Reorienting to ('L', 'P', 'S')...\n",
      "'78_0002.nii.gz' is ('P', 'I', 'R'). Reorienting to ('L', 'P', 'S')...\n",
      "'7_0002.nii.gz' is ('P', 'I', 'R'). Reorienting to ('L', 'P', 'S')...\n",
      "'81_0002.nii.gz' is already ('L', 'P', 'S'). Copying...\n",
      "'98_0002.nii.gz' is ('P', 'I', 'R'). Reorienting to ('L', 'P', 'S')...\n",
      "\n",
      "--- Processing Complete ---\n",
      "All images have been processed and saved in 'C:/ADLM/Datasets/SPIDER_FULL_FINAL/10159290/T2SPACE_images_reoriented'.\n"
     ]
    }
   ],
   "source": [
    "import nibabel as nib\n",
    "import os\n",
    "import shutil\n",
    "\n",
    "# --- Configuration ---\n",
    "# 1. Set the path to your folder with the original T2 images\n",
    "original_data_folder = 'C:/ADLM/Datasets/SPIDER_FULL_FINAL/10159290/T2SPACE_images_nii.gz' \n",
    "\n",
    "# 2. Set the path for the new, cleaned dataset folder\n",
    "cleaned_data_folder = 'C:/ADLM/Datasets/SPIDER_FULL_FINAL/10159290/T2SPACE_images_reoriented' \n",
    "\n",
    "# 3. Define your explicit target orientation\n",
    "target_orientation_tuple = ('L', 'P', 'S')\n",
    "\n",
    "# --- Script Execution ---\n",
    "\n",
    "# Create the output directory if it doesn't exist\n",
    "os.makedirs(cleaned_data_folder, exist_ok=True)\n",
    "print(f\"Cleaned data will be saved in: {cleaned_data_folder}\")\n",
    "\n",
    "# Get a list of all image files in the original folder\n",
    "all_files = [f for f in os.listdir(original_data_folder) if f.endswith(('.nii', '.nii.gz'))]\n",
    "\n",
    "for filename in all_files:\n",
    "    input_path = os.path.join(original_data_folder, filename)\n",
    "    output_path = os.path.join(cleaned_data_folder, filename)\n",
    "    \n",
    "    try:\n",
    "        # Load the image\n",
    "        img = nib.load(input_path)\n",
    "        \n",
    "        # Get its current orientation\n",
    "        current_orientation_tuple = nib.aff2axcodes(img.affine)\n",
    "        \n",
    "        # Check if the orientation is already the target orientation\n",
    "        if current_orientation_tuple == target_orientation_tuple:\n",
    "            # If orientation is correct, just copy the file\n",
    "            print(f\"'{filename}' is already {target_orientation_tuple}. Copying...\")\n",
    "            shutil.copyfile(input_path, output_path)\n",
    "        else:\n",
    "            # If orientation is incorrect, we perform a specific reorientation\n",
    "            print(f\"'{filename}' is {current_orientation_tuple}. Reorienting to {target_orientation_tuple}...\")\n",
    "            \n",
    "            # Get the target orientation object\n",
    "            target_orientation_obj = nib.orientations.axcodes2ornt(target_orientation_tuple)\n",
    "            \n",
    "            # Get the current orientation object\n",
    "            current_orientation_obj = nib.orientations.axcodes2ornt(current_orientation_tuple)\n",
    "            \n",
    "            # Calculate the transformation from current to target\n",
    "            transform = nib.orientations.ornt_transform(current_orientation_obj, target_orientation_obj)\n",
    "            \n",
    "            # Apply the transformation to the image data\n",
    "            reoriented_img_data = nib.orientations.apply_orientation(img.get_fdata(), transform)\n",
    "            \n",
    "            # Get the new affine matrix that reflects the reorientation\n",
    "            new_affine = img.affine.dot(nib.orientations.inv_ornt_aff(transform, img.shape))\n",
    "            \n",
    "            # Create the new NIfTI image\n",
    "            new_img = nib.Nifti1Image(reoriented_img_data, new_affine)\n",
    "            \n",
    "            # Save the new, reoriented image to the cleaned folder\n",
    "            nib.save(new_img, output_path)\n",
    "            \n",
    "    except Exception as e:\n",
    "        print(f\"ERROR processing '{filename}': {e}\")\n",
    "\n",
    "print(\"\\n--- Processing Complete ---\")\n",
    "print(f\"All images have been processed and saved in '{cleaned_data_folder}'.\")"
   ]
  },
  {
   "cell_type": "markdown",
   "id": "8fae95ce",
   "metadata": {},
   "source": [
    "# FINAL ORIENTATION CHECK (same as prev.) "
   ]
  },
  {
   "cell_type": "code",
   "execution_count": 23,
   "id": "939bfbfc",
   "metadata": {},
   "outputs": [
    {
     "name": "stdout",
     "output_type": "stream",
     "text": [
      "--- Orientation Summary ---\n",
      "Orientation: LPS, Count: 41\n"
     ]
    }
   ],
   "source": [
    "def check_all_orientations(data_folder):\n",
    "    \"\"\"\n",
    "    Checks the orientation of all .nii.gz files in a folder.\n",
    "    \"\"\"\n",
    "    orientations = {}\n",
    "    for filename in os.listdir(data_folder):\n",
    "        if filename.endswith(\".nii.gz\"):\n",
    "            image_path = os.path.join(data_folder, filename)\n",
    "            try:\n",
    "                img = nib.load(image_path)\n",
    "                orientation = ''.join(nib.aff2axcodes(img.affine)) # Join tuple to string for easy counting\n",
    "                if orientation not in orientations:\n",
    "                    orientations[orientation] = 0\n",
    "                orientations[orientation] += 1\n",
    "            except Exception as e:\n",
    "                print(f\"Could not process {filename}: {e}\")\n",
    "\n",
    "    print(\"--- Orientation Summary ---\")\n",
    "    for orientation, count in orientations.items():\n",
    "        print(f\"Orientation: {orientation}, Count: {count}\")\n",
    "\n",
    "# --- Usage ---\n",
    "# Replace 'path/to/your/t2_images' with the folder containing your T2 NIfTI files\n",
    "t2_folder = 'C:/ADLM/Datasets/SPIDER_FULL_FINAL/10159290/T2SPACE_images_reoriented'\n",
    "check_all_orientations(t2_folder)"
   ]
  },
  {
   "cell_type": "code",
   "execution_count": null,
   "id": "8612b89f",
   "metadata": {},
   "outputs": [],
   "source": []
  }
 ],
 "metadata": {
  "kernelspec": {
   "display_name": "Python 3 (ipykernel)",
   "language": "python",
   "name": "python3"
  },
  "language_info": {
   "codemirror_mode": {
    "name": "ipython",
    "version": 3
   },
   "file_extension": ".py",
   "mimetype": "text/x-python",
   "name": "python",
   "nbconvert_exporter": "python",
   "pygments_lexer": "ipython3",
   "version": "3.9.7"
  }
 },
 "nbformat": 4,
 "nbformat_minor": 5
}
