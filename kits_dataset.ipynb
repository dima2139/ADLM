{
 "cells": [
  {
   "metadata": {},
   "cell_type": "markdown",
   "source": "Install requirements",
   "id": "a4f0712569f77c68"
  },
  {
   "metadata": {},
   "cell_type": "markdown",
   "source": "Download the KiTS23 Dataset from https://github.com/neheller/kits23. All the instructions are on the github page\n",
   "id": "9645fda5fffef5ff"
  },
  {
   "metadata": {},
   "cell_type": "markdown",
   "source": [
    "When you have downloaded the dataset you have to manually split the data into a train set and a test set.\n",
    "\n",
    "The train set contains the images: case_00000 to case_00490<br>\n",
    "The test set contains the images: case_00491 to case_00588\n",
    "\n",
    "This corresponds to a 80-20 train-test split\n",
    "\n"
   ],
   "id": "3ab814fef3cd7a99"
  },
  {
   "metadata": {},
   "cell_type": "code",
   "outputs": [],
   "execution_count": null,
   "source": "",
   "id": "a337d19ab389b658"
  }
 ],
 "metadata": {
  "kernelspec": {
   "display_name": "Python 3",
   "language": "python",
   "name": "python3"
  },
  "language_info": {
   "codemirror_mode": {
    "name": "ipython",
    "version": 2
   },
   "file_extension": ".py",
   "mimetype": "text/x-python",
   "name": "python",
   "nbconvert_exporter": "python",
   "pygments_lexer": "ipython2",
   "version": "2.7.6"
  }
 },
 "nbformat": 4,
 "nbformat_minor": 5
}
