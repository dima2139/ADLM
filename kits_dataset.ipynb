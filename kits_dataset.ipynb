{
 "cells": [
  {
   "metadata": {},
   "cell_type": "markdown",
   "source": "<h1>Dataset",
   "id": "a4f0712569f77c68"
  },
  {
   "metadata": {},
   "cell_type": "markdown",
   "source": [
    "<h3>Dataset download</h3>\n",
    "\n",
    "Download the KiTS23 Dataset from https://github.com/neheller/kits23. All the instructions are on the github page\n",
    "\n",
    "When you have downloaded the dataset you have to manually split the data into a train set and a test set.\n",
    "\n",
    "The train set contains the images: case_00000 to case_00490<br>\n",
    "The test set contains the images: case_00491 to case_00588\n",
    "\n",
    "This corresponds to a 80-20 train-test split.\n",
    "\n",
    "Move all the samples corresponding to the training data into this folder:<br>\n",
    "ADLM/KiTS23/dataset/original_data/train\n",
    "\n",
    "Move all the samples corresponding to the testing data into this folder:<br>\n",
    "KiTS23/dataset/original_data/test\n",
    "\n",
    "With training sample we mean the entire folder (e.g. case_00001) that contains the image (imaging.nii.gz) and the groundtruth (segmentation.nii.gz)"
   ],
   "id": "9645fda5fffef5ff"
  },
  {
   "metadata": {},
   "cell_type": "markdown",
   "source": [
    "<h3>Dataset Conversion</h3>\n",
    "\n",
    "Now we have to convert the dataset into nnUNet format. nnUNet provides a script for the KiTS23 dataset that allows us to easily do the conversion"
   ],
   "id": "9cc762623e9b0ac"
  },
  {
   "metadata": {},
   "cell_type": "markdown",
   "source": "For training data:",
   "id": "92d1fb0693b79dfb"
  },
  {
   "metadata": {},
   "cell_type": "code",
   "source": [
    "%%cmd\n",
    "set nnUNet_raw=KiTS23\\dataset\\nnUNet_data\\train\\nnUNet_raw\n",
    "\n",
    "python nnUNet\\nnunetv2\\dataset_conversion\\Dataset220_KiTS2023.py KiTS23\\dataset\\original_data\\train -d 220"
   ],
   "id": "3f014d07ee980e43",
   "outputs": [],
   "execution_count": null
  },
  {
   "metadata": {},
   "cell_type": "markdown",
   "source": "For testing data:",
   "id": "248950624631f42f"
  },
  {
   "metadata": {},
   "cell_type": "code",
   "source": [
    "%%cmd\n",
    "set nnUNet_raw=KiTS23\\dataset\\nnUNet_data\\test\\nnUNet_raw\n",
    "\n",
    "python nnUNet\\nnunetv2\\dataset_conversion\\Dataset220_KiTS2023.py KiTS23\\dataset\\original_data\\test -d 221"
   ],
   "id": "3086205f121ab65a",
   "outputs": [],
   "execution_count": null
  },
  {
   "metadata": {},
   "cell_type": "markdown",
   "source": [
    "This data is stored in these two folders:<br>\n",
    "KiTS23/dataset/nnUNet_data/train/nnUNet_raw<br>\n",
    "KiTS23/dataset/nnUNet_data/test/nnUNet_raw\n",
    "\n",
    "It might take a while until the data appears in the folders"
   ],
   "id": "96461c65620e8240"
  },
  {
   "metadata": {},
   "cell_type": "markdown",
   "source": [
    "<h3>Dataset preprocessing</h3>\n",
    "\n",
    "Now all that is left is to preprocess the training data"
   ],
   "id": "3a15d872c92996c6"
  },
  {
   "metadata": {},
   "cell_type": "code",
   "source": [
    "%%cmd\n",
    "set nnUNet_raw=KiTS23\\dataset\\nnUNet_data\\train\\nnUNet_raw\n",
    "set nnUNet_preprocessed=KiTS23\\dataset\\nnUNet_data\\train\\nnUNet_preprocessed\n",
    "\n",
    "nnUNetv2_plan_and_preprocess -d 220 -c 3d_fullres"
   ],
   "id": "f038a019270d425f",
   "outputs": [],
   "execution_count": null
  },
  {
   "metadata": {},
   "cell_type": "markdown",
   "source": "If you run into memory issues, look for help on the nnUNet github: https://github.com/MIC-DKFZ/nnUNet",
   "id": "2b0edb63705a9305"
  }
 ],
 "metadata": {
  "kernelspec": {
   "display_name": "Python 3",
   "language": "python",
   "name": "python3"
  },
  "language_info": {
   "codemirror_mode": {
    "name": "ipython",
    "version": 2
   },
   "file_extension": ".py",
   "mimetype": "text/x-python",
   "name": "python",
   "nbconvert_exporter": "python",
   "pygments_lexer": "ipython2",
   "version": "2.7.6"
  }
 },
 "nbformat": 4,
 "nbformat_minor": 5
}
