{
 "cells": [
  {
   "cell_type": "code",
   "execution_count": null,
   "id": "80b85a1d",
   "metadata": {
    "vscode": {
     "languageId": "plaintext"
    }
   },
   "outputs": [],
   "source": []
  },
  {
   "cell_type": "markdown",
   "id": "c36421de",
   "metadata": {},
   "source": [
    "### Images resample "
   ]
  },
  {
   "cell_type": "code",
   "execution_count": null,
   "id": "fde765c3",
   "metadata": {
    "vscode": {
     "languageId": "plaintext"
    }
   },
   "outputs": [],
   "source": [
    "INPUT_FOLDER = \"/vol/miltank/users/wyou/Documents/nnUNet/nnUNetFrame/dataset_221/nnUNet_raw/Dataset221_KiTS2023/imagesTs\""
   ]
  },
  {
   "cell_type": "code",
   "execution_count": null,
   "id": "0312e0de",
   "metadata": {
    "vscode": {
     "languageId": "plaintext"
    }
   },
   "outputs": [],
   "source": [
    "OUTPUT_FOLDER = \"/vol/miltank/users/wyou/Documents/target_images_model_1\"\n",
    "TARGET_SPACING = (3.0, 0.8, 0.8)"
   ]
  },
  {
   "cell_type": "code",
   "execution_count": null,
   "id": "6193d60b",
   "metadata": {
    "vscode": {
     "languageId": "plaintext"
    }
   },
   "outputs": [],
   "source": [
    "OUTPUT_FOLDER = \"/vol/miltank/users/wyou/Documents/target_images_model_2\"\n",
    "TARGET_SPACING = (2.25, 0.7, 0.7)"
   ]
  },
  {
   "cell_type": "code",
   "execution_count": null,
   "id": "186f823b",
   "metadata": {
    "vscode": {
     "languageId": "plaintext"
    }
   },
   "outputs": [],
   "source": [
    "OUTPUT_FOLDER = \"/vol/miltank/users/wyou/Documents/target_images_model_3\"\n",
    "TARGET_SPACING = (1.5, 0.6, 0.6)"
   ]
  },
  {
   "cell_type": "code",
   "execution_count": null,
   "id": "9091cd44",
   "metadata": {
    "vscode": {
     "languageId": "plaintext"
    }
   },
   "outputs": [],
   "source": [
    "OUTPUT_FOLDER = \"/vol/miltank/users/wyou/Documents/target_images_model_4\"\n",
    "TARGET_SPACING = (1.25, 0.5, 0.5)"
   ]
  },
  {
   "cell_type": "code",
   "execution_count": null,
   "id": "624c56c5",
   "metadata": {
    "vscode": {
     "languageId": "plaintext"
    }
   },
   "outputs": [],
   "source": [
    "OUTPUT_FOLDER = \"/vol/miltank/users/wyou/Documents/target_images_model_5\"\n",
    "TARGET_SPACING = (1.0, 0.4, 0.4)"
   ]
  },
  {
   "cell_type": "code",
   "execution_count": null,
   "id": "9603e1ca",
   "metadata": {
    "vscode": {
     "languageId": "plaintext"
    }
   },
   "outputs": [],
   "source": [
    "OUTPUT_FOLDER = \"/vol/miltank/users/wyou/Documents/target_images_model_6\"\n",
    "TARGET_SPACING = (0.8, 0.8, 0.8)"
   ]
  },
  {
   "cell_type": "code",
   "execution_count": null,
   "id": "c8457b2b",
   "metadata": {
    "vscode": {
     "languageId": "plaintext"
    }
   },
   "outputs": [],
   "source": [
    "\n",
    "OUTPUT_FOLDER = \"/vol/miltank/users/wyou/Documents/target_images_model_7\"\n",
    "TARGET_SPACING = (0.64, 0.64, 0.64)"
   ]
  },
  {
   "cell_type": "code",
   "execution_count": null,
   "id": "d5c902b7",
   "metadata": {
    "vscode": {
     "languageId": "plaintext"
    }
   },
   "outputs": [],
   "source": [
    "\n",
    "OUTPUT_FOLDER = \"/vol/miltank/users/wyou/Documents/target_images_model_8\"\n",
    "TARGET_SPACING = (0.53, 0.53, 0.53)"
   ]
  },
  {
   "cell_type": "code",
   "execution_count": null,
   "id": "8d2e8f7a",
   "metadata": {
    "vscode": {
     "languageId": "plaintext"
    }
   },
   "outputs": [],
   "source": [
    "OUTPUT_FOLDER = \"/vol/miltank/users/wyou/Documents/target_images_model_9\"\n",
    "TARGET_SPACING = (1.06, 1.06, 1.06)  # z, y, x (or however TPTBox defines it)"
   ]
  },
  {
   "cell_type": "code",
   "execution_count": null,
   "id": "768044dd",
   "metadata": {
    "vscode": {
     "languageId": "plaintext"
    }
   },
   "outputs": [],
   "source": [
    "OUTPUT_FOLDER = \"/vol/miltank/users/wyou/Documents/target_images_model_10\"\n",
    "TARGET_SPACING = (1.6, 1.6, 1.6)  # z, y, x (or however TPTBox defines it)"
   ]
  },
  {
   "cell_type": "code",
   "execution_count": null,
   "id": "3725f99b",
   "metadata": {
    "vscode": {
     "languageId": "plaintext"
    }
   },
   "outputs": [],
   "source": [
    "# Create output folder\n",
    "os.makedirs(OUTPUT_FOLDER, exist_ok=True)\n",
    "\n",
    "# Get list of all .nii.gz files\n",
    "nii_files = sorted(glob.glob(os.path.join(INPUT_FOLDER, \"*.nii.gz\")))\n",
    "print(f\"Found {len(nii_files)} images to resample to spacing {TARGET_SPACING}\\n\")\n",
    "\n",
    "for img_path in nii_files:\n",
    "    filename = os.path.basename(img_path)\n",
    "\n",
    "    try:\n",
    "        # Load the image\n",
    "        nii = NII.load(img_path, seg=False)\n",
    "\n",
    "        # Print original spacing\n",
    "        original_spacing = nii.spacing\n",
    "        print(f\"{filename}: original spacing = {original_spacing}\")\n",
    "\n",
    "        # Resample to target spacing\n",
    "        nii_rescaled = nii.rescale(TARGET_SPACING)\n",
    "\n",
    "        # Save result\n",
    "        output_path = os.path.join(OUTPUT_FOLDER, filename)\n",
    "        nii_rescaled.save(output_path)\n",
    "\n",
    "        print(f\"Saved resampled image to: {output_path}\\n\")\n",
    "\n",
    "    except Exception as e:\n",
    "        print(f\"Failed to resample: {filename}\")\n",
    "        print(e)\n",
    "\n",
    "print(\"All images resampled and saved to:\", OUTPUT_FOLDER)"
   ]
  },
  {
   "cell_type": "markdown",
   "id": "ed19a844",
   "metadata": {},
   "source": [
    "### Labels resample "
   ]
  },
  {
   "cell_type": "code",
   "execution_count": null,
   "id": "863b2a7d",
   "metadata": {
    "vscode": {
     "languageId": "plaintext"
    }
   },
   "outputs": [],
   "source": [
    "INPUT_FOLDER = \"/vol/miltank/users/wyou/Documents/nnUNet/nnUNetFrame/dataset_221/nnUNet_raw/Dataset221_KiTS2023/labelsTs\""
   ]
  },
  {
   "cell_type": "code",
   "execution_count": null,
   "id": "b3e28704",
   "metadata": {
    "vscode": {
     "languageId": "plaintext"
    }
   },
   "outputs": [],
   "source": [
    "OUTPUT_FOLDER = \"/vol/miltank/users/wyou/Documents/target_labels_model_1\"\n",
    "TARGET_SPACING = (3.0, 0.8, 0.8)"
   ]
  },
  {
   "cell_type": "code",
   "execution_count": null,
   "id": "ab82b6f0",
   "metadata": {
    "vscode": {
     "languageId": "plaintext"
    }
   },
   "outputs": [],
   "source": [
    "OUTPUT_FOLDER = \"/vol/miltank/users/wyou/Documents/target_labels_model_2\"\n",
    "TARGET_SPACING = (2.25, 0.7, 0.7)"
   ]
  },
  {
   "cell_type": "code",
   "execution_count": null,
   "id": "f04610b4",
   "metadata": {
    "vscode": {
     "languageId": "plaintext"
    }
   },
   "outputs": [],
   "source": [
    "OUTPUT_FOLDER = \"/vol/miltank/users/wyou/Documents/target_labels_model_3\"\n",
    "TARGET_SPACING = (1.5, 0.6, 0.6)"
   ]
  },
  {
   "cell_type": "code",
   "execution_count": null,
   "id": "0b94c92e",
   "metadata": {
    "vscode": {
     "languageId": "plaintext"
    }
   },
   "outputs": [],
   "source": [
    "OUTPUT_FOLDER = \"/vol/miltank/users/wyou/Documents/target_labels_model_4\"\n",
    "TARGET_SPACING = (1.25, 0.5, 0.5)"
   ]
  },
  {
   "cell_type": "code",
   "execution_count": null,
   "id": "e58b3ae5",
   "metadata": {
    "vscode": {
     "languageId": "plaintext"
    }
   },
   "outputs": [],
   "source": [
    "OUTPUT_FOLDER = \"/vol/miltank/users/wyou/Documents/target_labels_model_5\"\n",
    "TARGET_SPACING = (1.0, 0.4, 0.4)"
   ]
  },
  {
   "cell_type": "code",
   "execution_count": null,
   "id": "7b71416e",
   "metadata": {
    "vscode": {
     "languageId": "plaintext"
    }
   },
   "outputs": [],
   "source": [
    "\n",
    "OUTPUT_FOLDER = \"/vol/miltank/users/wyou/Documents/target_labels_model_6\"\n",
    "TARGET_SPACING = (0.8, 0.8, 0.8)"
   ]
  },
  {
   "cell_type": "code",
   "execution_count": null,
   "id": "1b909b32",
   "metadata": {
    "vscode": {
     "languageId": "plaintext"
    }
   },
   "outputs": [],
   "source": [
    "\n",
    "OUTPUT_FOLDER = \"/vol/miltank/users/wyou/Documents/target_labels_model_7\"\n",
    "TARGET_SPACING = (0.64, 0.64, 0.64)"
   ]
  },
  {
   "cell_type": "code",
   "execution_count": null,
   "id": "b8baf6cb",
   "metadata": {
    "vscode": {
     "languageId": "plaintext"
    }
   },
   "outputs": [],
   "source": [
    "\n",
    "OUTPUT_FOLDER = \"/vol/miltank/users/wyou/Documents/target_labels_model_8\"\n",
    "TARGET_SPACING = (0.53, 0.53, 0.53)"
   ]
  },
  {
   "cell_type": "code",
   "execution_count": null,
   "id": "71522b55",
   "metadata": {
    "vscode": {
     "languageId": "plaintext"
    }
   },
   "outputs": [],
   "source": [
    "OUTPUT_FOLDER = \"/vol/miltank/users/wyou/Documents/target_labels_model_9\"\n",
    "TARGET_SPACING = (1.06, 1.06, 1.06)  # z, y, x (or however TPTBox defines it)"
   ]
  },
  {
   "cell_type": "code",
   "execution_count": null,
   "id": "5ff3cd41",
   "metadata": {
    "vscode": {
     "languageId": "plaintext"
    }
   },
   "outputs": [],
   "source": [
    "OUTPUT_FOLDER = \"/vol/miltank/users/wyou/Documents/target_labels_model_10\"\n",
    "TARGET_SPACING = (1.6, 1.6, 1.6)  # z, y, x (or however TPTBox defines it)"
   ]
  },
  {
   "cell_type": "code",
   "execution_count": null,
   "id": "daef1907",
   "metadata": {
    "vscode": {
     "languageId": "plaintext"
    }
   },
   "outputs": [],
   "source": [
    "# Create output folder\n",
    "os.makedirs(OUTPUT_FOLDER, exist_ok=True)\n",
    "\n",
    "# Get list of all .nii.gz files\n",
    "nii_files = sorted(glob.glob(os.path.join(INPUT_FOLDER, \"*.nii.gz\")))\n",
    "print(f\"Found {len(nii_files)} images to resample to spacing {TARGET_SPACING}\\n\")\n",
    "\n",
    "for img_path in nii_files:\n",
    "    filename = os.path.basename(img_path)\n",
    "\n",
    "    try:\n",
    "        # Load the labels\n",
    "        nii = NII.load(img_path, seg=True)# seg=False for image, seg=True for label/mask\n",
    "\n",
    "        # Print original spacing\n",
    "        original_spacing = nii.spacing\n",
    "        print(f\"{filename}: original spacing = {original_spacing}\")\n",
    "\n",
    "        # Resample to target spacing\n",
    "        nii_rescaled = nii.rescale(TARGET_SPACING)\n",
    "\n",
    "        # Save result\n",
    "        output_path = os.path.join(OUTPUT_FOLDER, filename)\n",
    "        nii_rescaled.save(output_path)\n",
    "\n",
    "        print(f\"Saved resampled image to: {output_path}\\n\")\n",
    "\n",
    "    except Exception as e:\n",
    "        print(f\"Failed to resample: {filename}\")\n",
    "        print(e)\n",
    "\n",
    "print(\"All images resampled and saved to:\", OUTPUT_FOLDER)"
   ]
  }
 ],
 "metadata": {
  "language_info": {
   "name": "python"
  }
 },
 "nbformat": 4,
 "nbformat_minor": 5
}
