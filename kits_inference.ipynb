{
 "cells": [
  {
   "cell_type": "markdown",
   "id": "c2605ac193d4b025",
   "metadata": {},
   "source": [
    "<h1>Inference</h1>\n",
    "Once we finish training we can perform inference on the test data. To be able to get intrinsic evaluation metrics, we will perform inference twice. First on the original test data. And secondly on resampled test data where we resample the data such that every sample matches the target spacing of our model. The second approach will allow us to compute the intrinsic performance metrics of the model"
   ]
  },
  {
   "cell_type": "markdown",
   "id": "3bab6f94ab9d97f2",
   "metadata": {},
   "source": [
    "<h3>Inference on original data</h3>"
   ]
  },
  {
   "cell_type": "code",
   "id": "1a88b584f9d7f753",
   "metadata": {},
   "source": [
    "%%bash\n",
    "export nnUNet_raw=KiTS23/dataset/nnUNet_data/test/nnUNet_raw\n",
    "export nnUNet_preprocessed=KiTS23/dataset/nnUNet_data/train/nnUNet_preprocessed\n",
    "export nnUNet_results=KiTS23/dataset/nnUNet_data/train/nnUNet_results\n",
    "\n",
    "nnUNetv2_predict -i KiTS23/dataset/nnUNet_data/test/nnUNet_raw/imagesTr -o KiTS23/predictions/original_resolution -d 220 -c 3d_fullres -f all -device cuda"
   ],
   "outputs": [],
   "execution_count": null
  },
  {
   "cell_type": "markdown",
   "id": "8d66e876c5afdcaf",
   "metadata": {},
   "source": [
    "The predictions will be saved at:<br>\n",
    "\"KiTS23/predictions/original_resolution\""
   ]
  },
  {
   "cell_type": "markdown",
   "id": "b4da664194c3678d",
   "metadata": {},
   "source": [
    "<h3>Inference on resampled data</h3>\n",
    "First we resample the test data to the desired target spacing"
   ]
  },
  {
   "cell_type": "code",
   "id": "998dcc38614aa6",
   "metadata": {},
   "source": [
    "import importlib\n",
    "\n",
    "# Add script directory to Python path\n",
    "module_path = r\"KiTS23/scripts\"\n",
    "if module_path not in sys.path:\n",
    "    sys.path.append(module_path)\n",
    "\n",
    "# Import and reload to ensure updated version is used\n",
    "import resample_to_target\n",
    "importlib.reload(resample_to_target)\n",
    "\n",
    "from resample_to_target import resample_dataset\n",
    "\n",
    "# Define input folder and target spacing\n",
    "input_folder = \"KiTS23/dataset/nnUNet_data/train/nnUNet_raw/Dataset220_KiTS2023/imagesTr\"\n",
    "target_spacing = (2.0, 2.0, 2.0)\n",
    "\n",
    "# Call the function\n",
    "resample_dataset(\n",
    "    input_folder=input_folder,\n",
    "    target_spacing=target_spacing,\n",
    "    seg=False\n",
    ")\n"
   ],
   "outputs": [],
   "execution_count": null
  },
  {
   "cell_type": "code",
   "id": "860be02bd8f9aeb4",
   "metadata": {
    "jupyter": {
     "is_executing": true
    }
   },
   "source": [
    "%%bash\n",
    "export nnUNet_raw=KiTS23/dataset/nnUNet_data/test/nnUNet_raw_resampled\n",
    "export nnUNet_preprocessed=KiTS23/dataset/nnUNet_data/train/nnUNet_preprocessed\n",
    "export nnUNet_results=KiTS23/dataset/nnUNet_data/train/nnUNet_results\n",
    "\n",
    "nnUNetv2_predict -i KiTS23/dataset/nnUNet_data/test/nnUNet_raw_resampled/Dataset220_KiTS2023/imagesTr -o KiTS23/predictions/target_resolution -d 220 -c 3d_fullres -f all -device cuda"
   ],
   "outputs": [],
   "execution_count": null
  },
  {
   "cell_type": "markdown",
   "id": "54815cf822e2fdf3",
   "metadata": {},
   "source": [
    "The predictions will be saved at:<br>\n",
    "\"KiTS23/predictions/target_resolution\""
   ]
  }
 ],
 "metadata": {
  "kernelspec": {
   "display_name": "Python 3",
   "language": "python",
   "name": "python3"
  },
  "language_info": {
   "codemirror_mode": {
    "name": "ipython",
    "version": 2
   },
   "file_extension": ".py",
   "mimetype": "text/x-python",
   "name": "python",
   "nbconvert_exporter": "python",
   "pygments_lexer": "ipython2",
   "version": "2.7.6"
  }
 },
 "nbformat": 4,
 "nbformat_minor": 5
}
