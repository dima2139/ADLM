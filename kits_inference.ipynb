{
 "cells": [
  {
   "metadata": {},
   "cell_type": "markdown",
   "source": [
    "<h1>Inference</h1>\n",
    "Once we finish training we can perform inference on the test data. To be able to get intrinsic evaluation metrics, we will perform inference twice. First on the original test data. And secondly on resampled test data where we resample the data such that every sample matches the target spacing of our model. The second approach will allow us to compute the intrinsic performance metrics of the model"
   ],
   "id": "c2605ac193d4b025"
  },
  {
   "metadata": {},
   "cell_type": "markdown",
   "source": "<h3>Inference on original data</h3>",
   "id": "3bab6f94ab9d97f2"
  },
  {
   "metadata": {},
   "cell_type": "code",
   "source": [
    "%%cmd\n",
    "set nnUNet_raw=KiTS23/dataset/nnUNet_data/test/nnUNet_raw\n",
    "set nnUNet_preprocessed=KiTS23/dataset/nnUNet_data/train/nnUNet_preprocessed\n",
    "set nnUNet_results=KiTS23/dataset/nnUNet_data/train/nnUNet_results\n",
    "\n",
    "nnUNetv2_predict -i KiTS23/dataset/nnUNet_data/test/nnUNet_raw/imagesTr -o KiTS23/predictions/original_resolution -d 220 -c 3d_fullres -f all -device cuda"
   ],
   "id": "1a88b584f9d7f753",
   "outputs": [],
   "execution_count": null
  },
  {
   "metadata": {},
   "cell_type": "markdown",
   "source": [
    "The predictions will be saved at:<br>\n",
    "\"KiTS23/predictions/original_resolution\""
   ],
   "id": "8d66e876c5afdcaf"
  },
  {
   "metadata": {},
   "cell_type": "markdown",
   "source": [
    "<h3>Inference on resampled data</h3>\n",
    "First we resample the test data to the desired target spacing"
   ],
   "id": "b4da664194c3678d"
  },
  {
   "metadata": {
    "ExecuteTime": {
     "end_time": "2025-07-31T07:24:47.789921Z",
     "start_time": "2025-07-31T07:23:23.732785Z"
    }
   },
   "cell_type": "code",
   "source": [
    "import importlib\n",
    "\n",
    "# Add script directory to Python path\n",
    "module_path = r\"KiTS23/scripts\"\n",
    "if module_path not in sys.path:\n",
    "    sys.path.append(module_path)\n",
    "\n",
    "# Import and reload to ensure updated version is used\n",
    "import resample_to_target\n",
    "importlib.reload(resample_to_target)\n",
    "\n",
    "from resample_to_target import resample_dataset\n",
    "\n",
    "# Define input folder and target spacing\n",
    "input_folder = \"KiTS23/dataset/nnUNet_data/train/nnUNet_raw/Dataset220_KiTS2023/imagesTr\"\n",
    "target_spacing = (2.0, 2.0, 2.0)\n",
    "\n",
    "# Call the function\n",
    "resample_dataset(\n",
    "    input_folder=input_folder,\n",
    "    target_spacing=target_spacing,\n",
    "    seg=False\n",
    ")\n"
   ],
   "id": "998dcc38614aa6",
   "outputs": [
    {
     "name": "stderr",
     "output_type": "stream",
     "text": [
      "C:\\Users\\jeanb\\AppData\\Local\\anaconda3\\envs\\ADLM\\Lib\\site-packages\\requests\\__init__.py:86: RequestsDependencyWarning: Unable to find acceptable character detection dependency (chardet or charset_normalizer).\n",
      "  warnings.warn(\n"
     ]
    },
    {
     "name": "stdout",
     "output_type": "stream",
     "text": [
      "Resolved output path: KiTS23\\dataset\\nnUNet_data\\train\\nnUNet_raw_resampled\\Dataset220_KiTS2023\\imagesTr\n",
      "Found 1 images to resample to spacing (2.0, 2.0, 2.0)\n",
      "\n",
      "case_00000_0000.nii.gz: original spacing = (0.5, 0.9199219, 0.9199219)\n",
      "\u001B[96m[*] Save KiTS23\\dataset\\nnUNet_data\\train\\nnUNet_raw_resampled\\Dataset220_KiTS2023\\imagesTr\\case_00000_0000.nii.gz as uint16\u001B[0m\u001B[0m\n",
      "Saved resampled image to: KiTS23\\dataset\\nnUNet_data\\train\\nnUNet_raw_resampled\\Dataset220_KiTS2023\\imagesTr\\case_00000_0000.nii.gz\n",
      "\n",
      "All images resampled and saved to: KiTS23\\dataset\\nnUNet_data\\train\\nnUNet_raw_resampled\\Dataset220_KiTS2023\\imagesTr\n"
     ]
    }
   ],
   "execution_count": 3
  },
  {
   "metadata": {
    "jupyter": {
     "is_executing": true
    },
    "ExecuteTime": {
     "end_time": "2025-07-31T10:19:13.836231200Z",
     "start_time": "2025-07-31T07:54:59.639634Z"
    }
   },
   "cell_type": "code",
   "source": [
    "%%cmd\n",
    "set nnUNet_raw=KiTS23/dataset/nnUNet_data/test/nnUNet_raw_resampled\n",
    "set nnUNet_preprocessed=KiTS23/dataset/nnUNet_data/train/nnUNet_preprocessed\n",
    "set nnUNet_results=KiTS23/dataset/nnUNet_data/train/nnUNet_results\n",
    "\n",
    "nnUNetv2_predict -i KiTS23/dataset/nnUNet_data/test/nnUNet_raw_resampled/Dataset220_KiTS2023/imagesTr -o KiTS23/predictions/target_resolution -d 220 -c 3d_fullres -f all -device cpu"
   ],
   "id": "860be02bd8f9aeb4",
   "outputs": [
    {
     "name": "stdout",
     "output_type": "stream",
     "text": [
      "Microsoft Windows [Version 10.0.19045.6093]\r\n",
      "(c) Microsoft Corporation. Alle Rechte vorbehalten.\r\n",
      "\r\n",
      "(ADLM) C:\\Users\\jeanb\\PycharmProjects\\ADLM_Code\\ADLM>set nnUNet_raw=KiTS23/dataset/nnUNet_data/test/nnUNet_raw_resampled\n",
      "\r\n",
      "(ADLM) C:\\Users\\jeanb\\PycharmProjects\\ADLM_Code\\ADLM>set nnUNet_preprocessed=KiTS23/dataset/nnUNet_data/train/nnUNet_preprocessed\n",
      "\r\n",
      "(ADLM) C:\\Users\\jeanb\\PycharmProjects\\ADLM_Code\\ADLM>set nnUNet_results=KiTS23/dataset/nnUNet_data/train/nnUNet_results\n",
      "\r\n",
      "(ADLM) C:\\Users\\jeanb\\PycharmProjects\\ADLM_Code\\ADLM>\n",
      "(ADLM) C:\\Users\\jeanb\\PycharmProjects\\ADLM_Code\\ADLM>nnUNetv2_predict -i KiTS23/dataset/nnUNet_data/test/nnUNet_raw_resampled/Dataset220_KiTS2023/imagesTr -o KiTS23/predictions/target_resolution -d 220 -c 3d_fullres -f all -device cpu\n"
     ]
    },
    {
     "name": "stderr",
     "output_type": "stream",
     "text": [
      "C:\\Users\\jeanb\\AppData\\Local\\anaconda3\\envs\\ADLM\\Lib\\site-packages\\requests\\__init__.py:86: RequestsDependencyWarning: Unable to find acceptable character detection dependency (chardet or charset_normalizer).\r\n",
      "  warnings.warn(\r\n"
     ]
    },
    {
     "name": "stdout",
     "output_type": "stream",
     "text": [
      "\r\n",
      "#######################################################################\r\n",
      "Please cite the following paper when using nnU-Net:\r\n",
      "Isensee, F., Jaeger, P. F., Kohl, S. A., Petersen, J., & Maier-Hein, K. H. (2021). nnU-Net: a self-configuring method for deep learning-based biomedical image segmentation. Nature methods, 18(2), 203-211.\r\n",
      "#######################################################################\r\n",
      "\r\n",
      "perform_everything_on_device=True is only supported for cuda devices! Setting this to False\r\n",
      "There are 1 cases in the source folder\r\n",
      "I am processing 0 out of 1 (max process ID is 0, we start counting with 0!)\r\n",
      "There are 1 cases that I would like to predict\r\n"
     ]
    },
    {
     "name": "stderr",
     "output_type": "stream",
     "text": [
      "C:\\Users\\jeanb\\AppData\\Local\\anaconda3\\envs\\ADLM\\Lib\\site-packages\\requests\\__init__.py:86: RequestsDependencyWarning: Unable to find acceptable character detection dependency (chardet or charset_normalizer).\r\n",
      "  warnings.warn(\r\n"
     ]
    },
    {
     "name": "stdout",
     "output_type": "stream",
     "text": [
      "\r\n",
      "Predicting case_00000:\r\n",
      "perform_everything_on_device: False\r\n"
     ]
    },
    {
     "name": "stderr",
     "output_type": "stream",
     "text": [
      " 38%|███▊      | 112/294 [2:03:59<29:48:23, 589.58s/it]"
     ]
    }
   ],
   "execution_count": null
  },
  {
   "metadata": {},
   "cell_type": "markdown",
   "source": [
    "The predictions will be saved at:<br>\n",
    "\"KiTS23/predictions/target_resolution\""
   ],
   "id": "54815cf822e2fdf3"
  }
 ],
 "metadata": {
  "kernelspec": {
   "display_name": "Python 3",
   "language": "python",
   "name": "python3"
  },
  "language_info": {
   "codemirror_mode": {
    "name": "ipython",
    "version": 2
   },
   "file_extension": ".py",
   "mimetype": "text/x-python",
   "name": "python",
   "nbconvert_exporter": "python",
   "pygments_lexer": "ipython2",
   "version": "2.7.6"
  }
 },
 "nbformat": 4,
 "nbformat_minor": 5
}
